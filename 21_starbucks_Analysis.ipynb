{
 "cells": [
  {
   "cell_type": "code",
   "execution_count": 1,
   "metadata": {},
   "outputs": [],
   "source": [
    "import warnings                        \n",
    "warnings.filterwarnings('ignore')   \n",
    "import requests\n",
    "import folium\n",
    "from pandas.io.json import json_normalize"
   ]
  },
  {
   "cell_type": "code",
   "execution_count": 2,
   "metadata": {},
   "outputs": [],
   "source": [
    "# 전국 또는 특정 지역의 스타벅스 매장 위치를 찾아와서 지도위에 표시하기\n",
    "# 1. requests로 스타벅스 위치 데이터를 가져와서 딕셔너리 타입으로 변환한다.\n",
    "# 2. json_normalize() 메소드로 json 타입이 변환된 딕셔너리를 판다스 데이터프레임으로 변환한다.\n",
    "# 3. folium 모듈을 사용해서 지도를 표시하고 지도위의 스타벅스 매장에 마커를 표시한다."
   ]
  },
  {
   "cell_type": "code",
   "execution_count": 27,
   "metadata": {},
   "outputs": [
    {
     "name": "stdout",
     "output_type": "stream",
     "text": [
      "83\n"
     ]
    }
   ],
   "source": [
    "# 서울 스타벅스 전 지점\n",
    "\n",
    "targetSize = 'https://www.starbucks.co.kr/store/getStore.do?r=4SN84R4DCR'\n",
    "request = requests.post(targetSize,data={\n",
    "\n",
    "    'ins_lat': 37.4931456, # 위도 \n",
    "    'ins_lng': 127.0317056, # 경도\n",
    "    'p_sido_cd': '01', # 시도 코드\n",
    "    'p_gugun_cd': '0101', # 구군 코드\n",
    "    'in_biz_cd':'', # ? \n",
    "    'iend': 1600, # 서버가 응답하는 최대 매장의 개수\n",
    "    'set_date': ''# ?\n",
    "    # 'in_biz_cd', 'set_date'를 넘겨주지 않으면 서버에서 데이터를 얻어오지 못한다.\n",
    "})\n",
    "storeList = request.json()\n",
    "print(len(storeList['list']))\n"
   ]
  },
  {
   "cell_type": "code",
   "execution_count": 15,
   "metadata": {},
   "outputs": [
    {
     "name": "stdout",
     "output_type": "stream",
     "text": [
      "<class 'dict'>\n",
      "1\n"
     ]
    }
   ],
   "source": [
    "star_json = request.json() # 딕셔너리 타입으로 바뀐다.\n",
    "print(type(star_json)) # <class 'dict'>\n",
    "print(len(star_json)) # 1\n",
    "#print(star_json)"
   ]
  },
  {
   "cell_type": "code",
   "execution_count": 9,
   "metadata": {},
   "outputs": [
    {
     "name": "stdout",
     "output_type": "stream",
     "text": [
      "<class 'pandas.core.frame.DataFrame'>\n",
      "544\n"
     ]
    }
   ],
   "source": [
    "# pandas.io.json모듈의 import json_normalize() 메소드로 json 타입이 변환된 딕셔너리를 판다스 데이터프레임으로 변환한다.\n",
    "# json_normalize(데이터프레임으로 변환할 데이터가 저장된 딕셔너리, '딕셔너리 중에서 ')\n",
    "star_df = json_normalize(star_json, 'list')\n",
    "print(type(star_df))\n",
    "print(len(star_df))"
   ]
  },
  {
   "cell_type": "code",
   "execution_count": 11,
   "metadata": {},
   "outputs": [],
   "source": [
    "#star_df"
   ]
  },
  {
   "cell_type": "code",
   "execution_count": 14,
   "metadata": {},
   "outputs": [
    {
     "data": {
      "text/html": [
       "<div>\n",
       "<style scoped>\n",
       "    .dataframe tbody tr th:only-of-type {\n",
       "        vertical-align: middle;\n",
       "    }\n",
       "\n",
       "    .dataframe tbody tr th {\n",
       "        vertical-align: top;\n",
       "    }\n",
       "\n",
       "    .dataframe thead th {\n",
       "        text-align: right;\n",
       "    }\n",
       "</style>\n",
       "<table border=\"1\" class=\"dataframe\">\n",
       "  <thead>\n",
       "    <tr style=\"text-align: right;\">\n",
       "      <th></th>\n",
       "      <th>s_name</th>\n",
       "      <th>sido_code</th>\n",
       "      <th>sido_code</th>\n",
       "      <th>gugun_code</th>\n",
       "      <th>gugun_name</th>\n",
       "      <th>doro_address</th>\n",
       "      <th>lat</th>\n",
       "      <th>lot</th>\n",
       "    </tr>\n",
       "  </thead>\n",
       "  <tbody>\n",
       "    <tr>\n",
       "      <th>0</th>\n",
       "      <td>역삼아레나빌딩</td>\n",
       "      <td>01</td>\n",
       "      <td>01</td>\n",
       "      <td>0101</td>\n",
       "      <td>강남구</td>\n",
       "      <td>서울특별시 강남구 언주로 425 (역삼동)</td>\n",
       "      <td>37.501087</td>\n",
       "      <td>127.043069</td>\n",
       "    </tr>\n",
       "    <tr>\n",
       "      <th>1</th>\n",
       "      <td>논현역사거리</td>\n",
       "      <td>01</td>\n",
       "      <td>01</td>\n",
       "      <td>0101</td>\n",
       "      <td>강남구</td>\n",
       "      <td>서울특별시 강남구 강남대로 538 (논현동)</td>\n",
       "      <td>37.510178</td>\n",
       "      <td>127.022223</td>\n",
       "    </tr>\n",
       "    <tr>\n",
       "      <th>2</th>\n",
       "      <td>신사역성일빌딩</td>\n",
       "      <td>01</td>\n",
       "      <td>01</td>\n",
       "      <td>0101</td>\n",
       "      <td>강남구</td>\n",
       "      <td>서울특별시 강남구 강남대로 584 (논현동)</td>\n",
       "      <td>37.514132</td>\n",
       "      <td>127.020563</td>\n",
       "    </tr>\n",
       "    <tr>\n",
       "      <th>3</th>\n",
       "      <td>국기원사거리</td>\n",
       "      <td>01</td>\n",
       "      <td>01</td>\n",
       "      <td>0101</td>\n",
       "      <td>강남구</td>\n",
       "      <td>서울특별시 강남구 테헤란로 125 (역삼동)</td>\n",
       "      <td>37.499517</td>\n",
       "      <td>127.031495</td>\n",
       "    </tr>\n",
       "    <tr>\n",
       "      <th>4</th>\n",
       "      <td>스탈릿대치R</td>\n",
       "      <td>01</td>\n",
       "      <td>01</td>\n",
       "      <td>0101</td>\n",
       "      <td>강남구</td>\n",
       "      <td>서울특별시 강남구 남부순환로 2947 (대치동)</td>\n",
       "      <td>37.494668</td>\n",
       "      <td>127.062583</td>\n",
       "    </tr>\n",
       "    <tr>\n",
       "      <th>...</th>\n",
       "      <td>...</td>\n",
       "      <td>...</td>\n",
       "      <td>...</td>\n",
       "      <td>...</td>\n",
       "      <td>...</td>\n",
       "      <td>...</td>\n",
       "      <td>...</td>\n",
       "      <td>...</td>\n",
       "    </tr>\n",
       "    <tr>\n",
       "      <th>539</th>\n",
       "      <td>사가정역</td>\n",
       "      <td>01</td>\n",
       "      <td>01</td>\n",
       "      <td>0125</td>\n",
       "      <td>중랑구</td>\n",
       "      <td>서울특별시 중랑구 면목로 310</td>\n",
       "      <td>37.579594</td>\n",
       "      <td>127.087966</td>\n",
       "    </tr>\n",
       "    <tr>\n",
       "      <th>540</th>\n",
       "      <td>상봉역</td>\n",
       "      <td>01</td>\n",
       "      <td>01</td>\n",
       "      <td>0125</td>\n",
       "      <td>중랑구</td>\n",
       "      <td>서울특별시 중랑구 망우로 307, ,3,4번지 (상봉동)</td>\n",
       "      <td>37.59689</td>\n",
       "      <td>127.08647</td>\n",
       "    </tr>\n",
       "    <tr>\n",
       "      <th>541</th>\n",
       "      <td>묵동이마트</td>\n",
       "      <td>01</td>\n",
       "      <td>01</td>\n",
       "      <td>0125</td>\n",
       "      <td>중랑구</td>\n",
       "      <td>서울특별시 중랑구 동일로 932 (묵동, 묵동자이아파트) (묵동이마트 B1층)</td>\n",
       "      <td>37.613433</td>\n",
       "      <td>127.077484</td>\n",
       "    </tr>\n",
       "    <tr>\n",
       "      <th>542</th>\n",
       "      <td>묵동</td>\n",
       "      <td>01</td>\n",
       "      <td>01</td>\n",
       "      <td>0125</td>\n",
       "      <td>중랑구</td>\n",
       "      <td>서울특별시 중랑구 동일로 952</td>\n",
       "      <td>37.615368</td>\n",
       "      <td>127.076633</td>\n",
       "    </tr>\n",
       "    <tr>\n",
       "      <th>543</th>\n",
       "      <td>중화역</td>\n",
       "      <td>01</td>\n",
       "      <td>01</td>\n",
       "      <td>0125</td>\n",
       "      <td>중랑구</td>\n",
       "      <td>서울특별시 중랑구 봉화산로 35 1,2층</td>\n",
       "      <td>37.60170912407773</td>\n",
       "      <td>127.07841136432036</td>\n",
       "    </tr>\n",
       "  </tbody>\n",
       "</table>\n",
       "<p>544 rows × 8 columns</p>\n",
       "</div>"
      ],
      "text/plain": [
       "      s_name sido_code sido_code  ...                                 doro_address                lat                 lot\n",
       "0    역삼아레나빌딩        01        01  ...                      서울특별시 강남구 언주로 425 (역삼동)          37.501087          127.043069\n",
       "1     논현역사거리        01        01  ...                     서울특별시 강남구 강남대로 538 (논현동)          37.510178          127.022223\n",
       "2    신사역성일빌딩        01        01  ...                     서울특별시 강남구 강남대로 584 (논현동)          37.514132          127.020563\n",
       "3     국기원사거리        01        01  ...                     서울특별시 강남구 테헤란로 125 (역삼동)          37.499517          127.031495\n",
       "4     스탈릿대치R        01        01  ...                   서울특별시 강남구 남부순환로 2947 (대치동)          37.494668          127.062583\n",
       "..       ...       ...       ...  ...                                          ...                ...                 ...\n",
       "539     사가정역        01        01  ...                            서울특별시 중랑구 면목로 310          37.579594          127.087966\n",
       "540      상봉역        01        01  ...              서울특별시 중랑구 망우로 307, ,3,4번지 (상봉동)           37.59689           127.08647\n",
       "541    묵동이마트        01        01  ...  서울특별시 중랑구 동일로 932 (묵동, 묵동자이아파트) (묵동이마트 B1층)          37.613433          127.077484\n",
       "542       묵동        01        01  ...                           서울특별시 중랑구 동일로 952           37.615368          127.076633\n",
       "543      중화역        01        01  ...                       서울특별시 중랑구 봉화산로 35 1,2층  37.60170912407773  127.07841136432036\n",
       "\n",
       "[544 rows x 8 columns]"
      ]
     },
     "execution_count": 14,
     "metadata": {},
     "output_type": "execute_result"
    }
   ],
   "source": [
    "# 작업에 필요한 컬럼 몇가지를 선택해서 지도에 마커를 표시할 때 사용할 데이터가 저장된 데이터프레임을 만든다.\n",
    "# s_name -> 지점이름\n",
    "# sido_code -> 시도 코드\n",
    "# sido_name -> 시도 이름\n",
    "# gugun_code -> 구군 코드\n",
    "# gugun_name -> 구군 이름\n",
    "# doro_address -> 도로명 주소\n",
    "# lat -> 위도\n",
    "# lot -> 경도\n",
    "\n",
    "# 판다스 데이터프레임에서 특정 컬럼의 데이터를 얻어올 때 얻어올 컬럼이 1개라면 컬럼 이름만 적으면 되지만 얻어올 컬럼이 2개 \n",
    "# 이상일 경우 얻어올 컬럼 이름을 리스트로 만들어 얻어와야 한다.\n",
    "star_df_map = star_df[['s_name','sido_code','sido_code','gugun_code','gugun_name','doro_address','lat','lot']]\n",
    "star_df_map"
   ]
  },
  {
   "cell_type": "code",
   "execution_count": 16,
   "metadata": {},
   "outputs": [
    {
     "data": {
      "text/plain": [
       "s_name          object\n",
       "sido_code       object\n",
       "sido_code       object\n",
       "gugun_code      object\n",
       "gugun_name      object\n",
       "doro_address    object\n",
       "lat             object\n",
       "lot             object\n",
       "dtype: object"
      ]
     },
     "execution_count": 16,
     "metadata": {},
     "output_type": "execute_result"
    }
   ],
   "source": [
    "star_df_map.dtypes"
   ]
  },
  {
   "cell_type": "code",
   "execution_count": 17,
   "metadata": {},
   "outputs": [
    {
     "data": {
      "text/plain": [
       "s_name           object\n",
       "sido_code        object\n",
       "sido_code        object\n",
       "gugun_code       object\n",
       "gugun_name       object\n",
       "doro_address     object\n",
       "lat             float64\n",
       "lot             float64\n",
       "dtype: object"
      ]
     },
     "execution_count": 17,
     "metadata": {},
     "output_type": "execute_result"
    }
   ],
   "source": [
    "# astype() 메소드로 위도, 경도의 데이터 타입을 oject에서 float으로 변경한다.\n",
    "star_df_map['lat'] = star_df_map['lat'].astype(float)\n",
    "star_df_map['lot'] = star_df_map['lot'].astype(float)\n",
    "star_df_map.dtypes"
   ]
  },
  {
   "cell_type": "code",
   "execution_count": null,
   "metadata": {},
   "outputs": [],
   "source": []
  }
 ],
 "metadata": {
  "kernelspec": {
   "display_name": "Python 3",
   "language": "python",
   "name": "python3"
  },
  "language_info": {
   "codemirror_mode": {
    "name": "ipython",
    "version": 3
   },
   "file_extension": ".py",
   "mimetype": "text/x-python",
   "name": "python",
   "nbconvert_exporter": "python",
   "pygments_lexer": "ipython3",
   "version": "3.8.5"
  }
 },
 "nbformat": 4,
 "nbformat_minor": 4
}
