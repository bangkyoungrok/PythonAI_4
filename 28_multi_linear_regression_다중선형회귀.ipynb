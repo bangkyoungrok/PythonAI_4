{
 "cells": [
  {
   "cell_type": "code",
   "execution_count": 1,
   "metadata": {},
   "outputs": [
    {
     "name": "stdout",
     "output_type": "stream",
     "text": [
      "INFO:tensorflow:Enabling eager execution\n",
      "INFO:tensorflow:Enabling v2 tensorshape\n",
      "INFO:tensorflow:Enabling resource variables\n",
      "INFO:tensorflow:Enabling tensor equality\n",
      "INFO:tensorflow:Enabling control flow v2\n",
      "INFO:tensorflow:Disabling eager execution\n",
      "INFO:tensorflow:Disabling v2 tensorshape\n",
      "WARNING:tensorflow:From c:\\users\\bkr03\\appdata\\local\\programs\\python\\python39\\lib\\site-packages\\tensorflow\\python\\compat\\v2_compat.py:96: disable_resource_variables (from tensorflow.python.ops.variable_scope) is deprecated and will be removed in a future version.\n",
      "Instructions for updating:\n",
      "non-resource variables are not supported in the long term\n",
      "INFO:tensorflow:Disabling resource variables\n",
      "INFO:tensorflow:Disabling tensor equality\n",
      "INFO:tensorflow:Disabling control flow v2\n"
     ]
    }
   ],
   "source": [
    "import warnings                        \n",
    "warnings.filterwarnings('ignore')  \n",
    "import numpy as np\n",
    "import pandas as pd\n",
    "import tensorflow.compat.v1 as tf\n",
    "tf.disable_v2_behavior()"
   ]
  },
  {
   "cell_type": "code",
   "execution_count": 2,
   "metadata": {},
   "outputs": [],
   "source": [
    "# [공부한 시간(x1), 과외 수업 시간(x2), 실제 성적(y)]\n",
    "data = [[2,0,81], [4,4,93], [6,2,91], [8,3,97]]\n",
    "xData1 = []\n",
    "xData2 = []\n",
    "yData  = []\n",
    "#xData1 = [i[0] for i in data]\n",
    "#xData2 = [i[1] for i in data]\n",
    "#yData2 = [i[2] for i in data]\n",
    "for i in range(len(data)):\n",
    "    xData1.append(data[i][0])  \n",
    "    xData2.append(data[i][1])\n",
    "    yData.append(data[i][2])"
   ]
  },
  {
   "cell_type": "code",
   "execution_count": 3,
   "metadata": {},
   "outputs": [
    {
     "name": "stdout",
     "output_type": "stream",
     "text": [
      "a1: [9.54574], a2: [8.995957], b: [82.52237]\n"
     ]
    }
   ],
   "source": [
    "# 기울기 a1, a2와 y절편 b를 임의의 값으로 정한다.\n",
    "# 단 기울기의 범위는 0 ~ 10 사이이며 y절편의 범위는 0 ~ 100 사이이며 임의로 변하게 한다.\n",
    "a1 = tf.Variable(tf.random_uniform([1],0,10), dtype=tf.float32)\n",
    "a2 = tf.Variable(tf.random_uniform([1],0,10), dtype=tf.float32)\n",
    "b  = tf.Variable(tf.random_uniform([1],0,100), dtype=tf.float32)\n",
    "sess = tf.Session()\n",
    "sess.run(tf.global_variables_initializer())\n",
    "print('a1: {}, a2: {}, b: {}'.format(sess.run(a1),sess.run(a2),sess.run(b)))"
   ]
  },
  {
   "cell_type": "code",
   "execution_count": 4,
   "metadata": {},
   "outputs": [],
   "source": [
    "# 예측성적(y)을 얻기위한 가설(수식)을 만든다.\n",
    "y = a1 * xData1 + a2 * xData2 + yData"
   ]
  },
  {
   "cell_type": "code",
   "execution_count": 5,
   "metadata": {},
   "outputs": [],
   "source": [
    "# tensorflow에서 실행할 RMSE(평균 제곱근 오차) 수식(오차 비용 함수)을 만든다.\n",
    "rmse = tf.sqrt(tf.reduce_mean(tf.square(y-yData)))"
   ]
  },
  {
   "cell_type": "code",
   "execution_count": 6,
   "metadata": {},
   "outputs": [],
   "source": [
    "# 경사 하강법을 이용해서 RMSE(평균 제곱근 오차)를 최소로 하는 값을 찾는 수식을 만든다.\n",
    "learning_rate = 0.1\n",
    "gradient_descent = tf.train.GradientDescentOptimizer(learning_rate).minimize(rmse)"
   ]
  },
  {
   "cell_type": "code",
   "execution_count": 7,
   "metadata": {},
   "outputs": [
    {
     "name": "stdout",
     "output_type": "stream",
     "text": [
      "Epoch:    0, RMSE: 29.4481, 기울기1  2.7780, 기울기2:  5.6249, y절편: 66.5399\n",
      "Epoch:  200, RMSE: 29.4481, 기울기1  2.7780, 기울기2:  5.6249, y절편: 66.5399\n",
      "Epoch:  400, RMSE: 29.4481, 기울기1  2.7780, 기울기2:  5.6249, y절편: 66.5399\n",
      "Epoch:  600, RMSE: 29.4481, 기울기1  2.7780, 기울기2:  5.6249, y절편: 66.5399\n",
      "Epoch:  800, RMSE: 29.4481, 기울기1  2.7780, 기울기2:  5.6249, y절편: 66.5399\n",
      "Epoch: 1000, RMSE: 29.4481, 기울기1  2.7780, 기울기2:  5.6249, y절편: 66.5399\n",
      "Epoch: 1200, RMSE: 29.4481, 기울기1  2.7780, 기울기2:  5.6249, y절편: 66.5399\n",
      "Epoch: 1400, RMSE: 29.4481, 기울기1  2.7780, 기울기2:  5.6249, y절편: 66.5399\n",
      "Epoch: 1600, RMSE: 29.4481, 기울기1  2.7780, 기울기2:  5.6249, y절편: 66.5399\n",
      "Epoch: 1800, RMSE: 29.4481, 기울기1  2.7780, 기울기2:  5.6249, y절편: 66.5399\n",
      "Epoch: 2000, RMSE: 29.4481, 기울기1  2.7780, 기울기2:  5.6249, y절편: 66.5399\n",
      "Epoch: 2200, RMSE: 29.4481, 기울기1  2.7780, 기울기2:  5.6249, y절편: 66.5399\n",
      "Epoch: 2400, RMSE: 29.4481, 기울기1  2.7780, 기울기2:  5.6249, y절편: 66.5399\n",
      "Epoch: 2600, RMSE: 29.4481, 기울기1  2.7780, 기울기2:  5.6249, y절편: 66.5399\n",
      "Epoch: 2800, RMSE: 29.4481, 기울기1  2.7780, 기울기2:  5.6249, y절편: 66.5399\n",
      "Epoch: 3000, RMSE: 29.4481, 기울기1  2.7780, 기울기2:  5.6249, y절편: 66.5399\n"
     ]
    }
   ],
   "source": [
    "# 학습시킨다.\n",
    "import time\n",
    "sess = tf.Session()\n",
    "sess.run(tf.global_variables_initializer())\n",
    "\n",
    "for i in range(3001):\n",
    "    if i % 200 == 0:\n",
    "        print('Epoch: %4d, RMSE: %7.4f, 기울기1 %7.4f, 기울기2: %7.4f, y절편: %7.4f' %(i, sess.run(rmse),sess.run(a1),\n",
    "                                                                              sess.run(a2),sess.run(b)))\n",
    "        time.sleep(0.25)"
   ]
  },
  {
   "cell_type": "code",
   "execution_count": null,
   "metadata": {},
   "outputs": [],
   "source": []
  },
  {
   "cell_type": "code",
   "execution_count": null,
   "metadata": {},
   "outputs": [],
   "source": []
  }
 ],
 "metadata": {
  "kernelspec": {
   "display_name": "Python 3",
   "language": "python",
   "name": "python3"
  },
  "language_info": {
   "codemirror_mode": {
    "name": "ipython",
    "version": 3
   },
   "file_extension": ".py",
   "mimetype": "text/x-python",
   "name": "python",
   "nbconvert_exporter": "python",
   "pygments_lexer": "ipython3",
   "version": "3.9.4"
  }
 },
 "nbformat": 4,
 "nbformat_minor": 4
}
