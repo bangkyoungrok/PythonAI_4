{
 "cells": [
  {
   "cell_type": "markdown",
   "metadata": {},
   "source": [
    "### 경사하강법\n",
    "#### 경사 하강법(Gradient Descent)  \n",
    "#### 기울기를 너무 크게 잡으면 오차가 커지고 너무 작게 잡아도 오차가 커진다.  \n",
    "#### 기울기를 무한대로 키우면 오차도 무한대로 커지고 기울기를 무한대로 작게해도 오차는 무한대로 커진다."
   ]
  },
  {
   "cell_type": "code",
   "execution_count": 1,
   "metadata": {},
   "outputs": [
    {
     "name": "stdout",
     "output_type": "stream",
     "text": [
      "INFO:tensorflow:Enabling eager execution\n",
      "INFO:tensorflow:Enabling v2 tensorshape\n",
      "INFO:tensorflow:Enabling resource variables\n",
      "INFO:tensorflow:Enabling tensor equality\n",
      "INFO:tensorflow:Enabling control flow v2\n",
      "INFO:tensorflow:Disabling eager execution\n",
      "INFO:tensorflow:Disabling v2 tensorshape\n",
      "WARNING:tensorflow:From c:\\users\\bkr03\\appdata\\local\\programs\\python\\python39\\lib\\site-packages\\tensorflow\\python\\compat\\v2_compat.py:96: disable_resource_variables (from tensorflow.python.ops.variable_scope) is deprecated and will be removed in a future version.\n",
      "Instructions for updating:\n",
      "non-resource variables are not supported in the long term\n",
      "INFO:tensorflow:Disabling resource variables\n",
      "INFO:tensorflow:Disabling tensor equality\n",
      "INFO:tensorflow:Disabling control flow v2\n"
     ]
    }
   ],
   "source": [
    "import warnings                        \n",
    "warnings.filterwarnings('ignore')  \n",
    "import numpy as np\n",
    "import pandas as pd\n",
    "import tensorflow.compat.v1 as tf\n",
    "tf.disable_v2_behavior()"
   ]
  },
  {
   "cell_type": "code",
   "execution_count": 2,
   "metadata": {},
   "outputs": [],
   "source": [
    "data = [[2,81], [4,93], [6,91], [8,97]] # -> [공부한 시간(x), 실제 성적(y)]\n",
    "xData = [i[0] for i in data] # 공부한 시간\n",
    "yData = [i[1] for i in data] # 시험 성적 \n"
   ]
  },
  {
   "cell_type": "code",
   "execution_count": 3,
   "metadata": {},
   "outputs": [
    {
     "name": "stdout",
     "output_type": "stream",
     "text": [
      "a: [7.7852306], b: [40.123703]\n"
     ]
    }
   ],
   "source": [
    "# 기울기 a와 y절편 b를 임의로 정한다.\n",
    "# 기울기의 범위는 0 ~ 10사이이며, y절편의 범위는 0에서 ~100사이이며 임의로(random) 변하게 한다.\n",
    "# random_umiform() : tensorflow에서 난수를 발생기키는 메소드\n",
    "# random_umiform([난수의 개수(차원)], 난수의 최솟값, 난수의 최댓값. dtype=난수의 데이터 타입, seed = 숫자)\n",
    "# 난수 발생시 seed를 지정하면 항상 일정한 배열의 난수가 생성된다. seed를 걸어 고정값이 나오도록 설정\n",
    "a = tf.Variable(tf.random_uniform([1],0,10, dtype=tf.float32))\n",
    "b = tf.Variable(tf.random_uniform([1],0,100, dtype=tf.float32))\n",
    "sess = tf.Session()\n",
    "sess.run(tf.global_variables_initializer())\n",
    "print('a: {}, b: {}'.format(sess.run(a), sess.run(b)))"
   ]
  },
  {
   "cell_type": "code",
   "execution_count": 4,
   "metadata": {},
   "outputs": [],
   "source": [
    "# 예측 성적(y)을 얻기위해 가설(수식)을 만든다.\n",
    "y = a * xData + b"
   ]
  },
  {
   "cell_type": "code",
   "execution_count": 5,
   "metadata": {},
   "outputs": [],
   "source": [
    "# tensorflow에서 실행할 RMSE(평균 제곱근 오차) 수식(오차 비용 함수)을 만든다.\n",
    "# tf.square(y - yData)  -> 예측 성적과 실제 성적의 편차의 제곱을 계산한다.\n",
    "# tf.reduce_mean(tf.square(y - yData)) -> 예측 성적과 실제 성적의 편차의 제곱의 평균을 계산한다.\n",
    "# tf.sqrt(tf.reduce_mean(tf.square(y - yData))) -> 예측 성적과 실제 성적의 편차의 제곱의 평균에 대한 제곱근\n",
    "rmse = tf.sqrt(tf.reduce_mean(tf.square(y - yData)))"
   ]
  },
  {
   "cell_type": "code",
   "execution_count": 6,
   "metadata": {},
   "outputs": [],
   "source": [
    "# 경사하강법을 이용해서 RMSE(평균 제곱근 오차)를 최소로 하는 값을 찾는 수식을 만든다.\n",
    "# 학습율을 정한다.\n",
    "learning_rate = 0.1\n",
    "# GradientDescentOptimizer(학습율) : 학습율에 따라 경사 하강 알고리즘을 실행한다.\n",
    "# minimize(오차함수) : 오차 함수의 실행 결과가 최소가 되는 값을 찾는다.\n",
    "gradient_descent = tf.train.GradientDescentOptimizer(learning_rate).minimize(rmse)"
   ]
  },
  {
   "cell_type": "markdown",
   "metadata": {},
   "source": [
    "#### 학습을 시킨다."
   ]
  },
  {
   "cell_type": "code",
   "execution_count": 7,
   "metadata": {},
   "outputs": [
    {
     "name": "stdout",
     "output_type": "stream",
     "text": [
      "Epoch:    0, RMSE: 17.4841, 기울기  7.9202y절편: 39.0898\n",
      "Epoch:  100, RMSE: 14.9135, 기울기  8.3057y절편: 43.1604\n",
      "Epoch:  200, RMSE: 13.3596, 기울기  7.6543y절편: 47.0481\n",
      "Epoch:  300, RMSE: 11.8234, 기울기  7.0065y절편: 50.9137\n",
      "Epoch:  400, RMSE: 10.3124, 기울기  6.3640y절편: 54.7476\n",
      "Epoch:  500, RMSE:  8.8386, 기울기  5.7296y절편: 58.5338\n",
      "Epoch:  600, RMSE:  7.4225, 기울기  5.1076y절편: 62.2453\n",
      "Epoch:  700, RMSE:  6.0989, 기울기  4.5063y절편: 65.8335\n",
      "Epoch:  800, RMSE:  4.9275, 기울기  3.9407y절편: 69.2087\n",
      "Epoch:  900, RMSE:  3.9963, 기울기  3.4367y절편: 72.2165\n",
      "Epoch: 1000, RMSE:  3.3844, 기울기  3.0289y절편: 74.6502\n",
      "Epoch: 1100, RMSE:  3.0732, 기울기  2.7391y절편: 76.3798\n",
      "Epoch: 1200, RMSE:  2.9474, 기울기  2.5554y절편: 77.4759\n",
      "Epoch: 1300, RMSE:  2.9030, 기울기  2.4464y절편: 78.1264\n",
      "Epoch: 1400, RMSE:  2.8881, 기울기  2.3835y절편: 78.5019\n",
      "Epoch: 1500, RMSE:  2.8833, 기울기  2.3475y절편: 78.7165\n",
      "Epoch: 1600, RMSE:  2.8817, 기울기  2.3270y절편: 78.8387\n",
      "Epoch: 1700, RMSE:  2.8812, 기울기  2.3154y절편: 78.9083\n",
      "Epoch: 1800, RMSE:  2.8811, 기울기  2.3087y절편: 78.9478\n",
      "Epoch: 1900, RMSE:  2.8810, 기울기  2.3050y절편: 78.9703\n",
      "Epoch: 2000, RMSE:  2.8810, 기울기  2.3028y절편: 78.9831\n",
      "Epoch: 2100, RMSE:  2.8810, 기울기  2.3016y절편: 78.9904\n",
      "Epoch: 2200, RMSE:  2.8810, 기울기  2.3009y절편: 78.9945\n",
      "Epoch: 2300, RMSE:  2.8810, 기울기  2.3005y절편: 78.9969\n",
      "Epoch: 2400, RMSE:  2.8810, 기울기  2.3003y절편: 78.9982\n",
      "Epoch: 2500, RMSE:  2.8810, 기울기  2.3002y절편: 78.9990\n",
      "Epoch: 2600, RMSE:  2.8810, 기울기  2.3001y절편: 78.9994\n",
      "Epoch: 2700, RMSE:  2.8810, 기울기  2.3001y절편: 78.9994\n",
      "Epoch: 2800, RMSE:  2.8810, 기울기  2.3001y절편: 78.9994\n",
      "Epoch: 2900, RMSE:  2.8810, 기울기  2.3001y절편: 78.9994\n",
      "Epoch: 3000, RMSE:  2.8810, 기울기  2.3001y절편: 78.9994\n"
     ]
    }
   ],
   "source": [
    "import time\n",
    "sess = tf.Session()\n",
    "sess.run(tf.global_variables_initializer())\n",
    "\n",
    "for i in range(3001):\n",
    "    sess.run(gradient_descent)\n",
    "    if i%100 == 0:\n",
    "        # Epoch -> 1번 학습을 의미한다. ,RMSE, 기울기, y절편\n",
    "        print('Epoch: %4d, RMSE: %7.4f, 기울기 %7.4fy절편: %7.4f' %(i, sess.run(rmse),sess.run(a),sess.run(b)))\n",
    "        time.sleep(0.25)"
   ]
  },
  {
   "cell_type": "code",
   "execution_count": null,
   "metadata": {},
   "outputs": [],
   "source": []
  },
  {
   "cell_type": "code",
   "execution_count": null,
   "metadata": {},
   "outputs": [],
   "source": []
  },
  {
   "cell_type": "code",
   "execution_count": null,
   "metadata": {},
   "outputs": [],
   "source": []
  },
  {
   "cell_type": "code",
   "execution_count": null,
   "metadata": {},
   "outputs": [],
   "source": []
  },
  {
   "cell_type": "code",
   "execution_count": null,
   "metadata": {},
   "outputs": [],
   "source": []
  },
  {
   "cell_type": "code",
   "execution_count": null,
   "metadata": {},
   "outputs": [],
   "source": []
  },
  {
   "cell_type": "code",
   "execution_count": null,
   "metadata": {},
   "outputs": [],
   "source": []
  },
  {
   "cell_type": "code",
   "execution_count": null,
   "metadata": {},
   "outputs": [],
   "source": []
  },
  {
   "cell_type": "code",
   "execution_count": null,
   "metadata": {},
   "outputs": [],
   "source": []
  }
 ],
 "metadata": {
  "kernelspec": {
   "display_name": "Python 3",
   "language": "python",
   "name": "python3"
  },
  "language_info": {
   "codemirror_mode": {
    "name": "ipython",
    "version": 3
   },
   "file_extension": ".py",
   "mimetype": "text/x-python",
   "name": "python",
   "nbconvert_exporter": "python",
   "pygments_lexer": "ipython3",
   "version": "3.9.4"
  }
 },
 "nbformat": 4,
 "nbformat_minor": 4
}
