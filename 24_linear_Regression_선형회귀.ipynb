{
 "cells": [
  {
   "cell_type": "code",
   "execution_count": 1,
   "metadata": {},
   "outputs": [
    {
     "name": "stdout",
     "output_type": "stream",
     "text": [
      "INFO:tensorflow:Enabling eager execution\n",
      "INFO:tensorflow:Enabling v2 tensorshape\n",
      "INFO:tensorflow:Enabling resource variables\n",
      "INFO:tensorflow:Enabling tensor equality\n",
      "INFO:tensorflow:Enabling control flow v2\n",
      "INFO:tensorflow:Disabling eager execution\n",
      "INFO:tensorflow:Disabling v2 tensorshape\n",
      "WARNING:tensorflow:From c:\\users\\bkr03\\appdata\\local\\programs\\python\\python39\\lib\\site-packages\\tensorflow\\python\\compat\\v2_compat.py:96: disable_resource_variables (from tensorflow.python.ops.variable_scope) is deprecated and will be removed in a future version.\n",
      "Instructions for updating:\n",
      "non-resource variables are not supported in the long term\n",
      "INFO:tensorflow:Disabling resource variables\n",
      "INFO:tensorflow:Disabling tensor equality\n",
      "INFO:tensorflow:Disabling control flow v2\n"
     ]
    }
   ],
   "source": [
    "import warnings                        \n",
    "warnings.filterwarnings('ignore')  \n",
    "import tensorflow.compat.v1 as tf\n",
    "tf.disable_v2_behavior()"
   ]
  },
  {
   "cell_type": "markdown",
   "metadata": {},
   "source": [
    "### 학습할 데이터를 만든다."
   ]
  },
  {
   "cell_type": "code",
   "execution_count": 2,
   "metadata": {},
   "outputs": [],
   "source": [
    "xData = [1,2,3,4,5,6,7] # 하루 근무 시간\n",
    "yData = [25000,55000, 75000, 110000, 128000,155000,180000] # 근무 시간에 따른 매출 금액, 실제값"
   ]
  },
  {
   "cell_type": "markdown",
   "metadata": {},
   "source": [
    "####  난수를 발생시켜 학습할 데이터의 기울기(가중치)와 y절편(바이어스)을 정한다.\n",
    "#### 난수를 발생시켜서 작업하는 이유는 과적합을 방지하기 위해서이다.\n",
    "#### 과적합이란 학습시킨 데이터에서는 높은 정확도를 보이지만 학습시킨 데이터 이외의 데이터에서는 데이터에서는 낮은 정확도를 보이는 문제점을 말한다."
   ]
  },
  {
   "cell_type": "code",
   "execution_count": 3,
   "metadata": {},
   "outputs": [
    {
     "name": "stdout",
     "output_type": "stream",
     "text": [
      "a = <tf.Variable 'Variable:0' shape=(1,) dtype=float32_ref>, b = <tf.Variable 'Variable_1:0' shape=(1,) dtype=float32_ref>\n"
     ]
    }
   ],
   "source": [
    "# Variable() : tensorflow에서 사용할 변수를 선언한다.\n",
    "# tf.random_uniform([난수의 개수], 난수의 최솟값, 난수의 최댓값) : tensorflow에서 사용할 난수를 발생시킨다.\n",
    "a = tf.Variable(tf.random_uniform([1],-100,100)) # 기울기(가중치), -100 ~ 100 사이의 난수\n",
    "b = tf.Variable(tf.random_uniform([1],-100,100)) # y절편(바이어스), -100 ~ 100 사이의 난수\n",
    "\n",
    "# tensorflow 변수는 아래와 같이 그냥 사용하면 저장된 데이터가 보이지 않고 tensorflow 객체가 출력된다.\n",
    "print('a = {}, b = {}'.format(a,b))"
   ]
  },
  {
   "cell_type": "markdown",
   "metadata": {},
   "source": [
    "#### tensorflow 변수를 초기화 하고 난수로 발생기킨 기울기와 y절편 값을 확인한다."
   ]
  },
  {
   "cell_type": "code",
   "execution_count": 4,
   "metadata": {},
   "outputs": [
    {
     "name": "stdout",
     "output_type": "stream",
     "text": [
      "a = [97.605515], b = [-21.603157]\n"
     ]
    }
   ],
   "source": [
    "# tensorflow 변수에 저장된 데이터를 출력하려면 tensorflow의 Session을 만들고 변수를 반드시 초기화 시킨 후 run() 메소드를\n",
    "# 사용해야 한다,.\n",
    "# tensorflow 세션을 만든다. -> 세션에서 실행한다.\n",
    "sess = tf.Session()\n",
    "# global_variables_initializer() 메소드로 tensorflow 변수를 초기화 시킨다. -> 변수의 값을 수정하고 연산을 다시 실행하려면\n",
    "# 변수를 다시 초기화 시켜야 한다.\n",
    "init = tf.global_variables_initializer()\n",
    "# tensorflow 세션에서 rum() 메소드로 변수 초기화를 적용시킨다.\n",
    "sess.run(init)\n",
    "\n",
    "print('a = {}, b = {}'.format(sess.run(a),sess.run(b)))"
   ]
  },
  {
   "cell_type": "markdown",
   "metadata": {},
   "source": [
    "#### 근무 시간과 매출 금액을 기억할 tensorflow에서 사용하는 자료형(placeholder)을 선언한다."
   ]
  },
  {
   "cell_type": "code",
   "execution_count": 5,
   "metadata": {},
   "outputs": [],
   "source": [
    "# placeholder(dtype=tf.자료형) : tensorflow에서 사용되는 처리할 데이터가 저장된 자료형을 선언한다.\n",
    "x = tf.placeholder(dtype=tf.float32) # 근무 시간을 기억할 placeholder\n",
    "y = tf.placeholder(dtype=tf.float32) # 매출 금액을 기억할 placeholder -> 실제값, 관측값, 레이블"
   ]
  },
  {
   "cell_type": "markdown",
   "metadata": {},
   "source": [
    "#### 1차 방정식 형태의 가설을 세우고 비용(오차) 함수를 정의한다."
   ]
  },
  {
   "cell_type": "code",
   "execution_count": 6,
   "metadata": {},
   "outputs": [
    {
     "name": "stdout",
     "output_type": "stream",
     "text": [
      "Tensor(\"Mean:0\", shape=(), dtype=float32)\n"
     ]
    }
   ],
   "source": [
    "# 1차 방정식 형태의 가설, Y -> 예측값\n",
    "Y = a * x + b\n",
    "\n",
    "# 비용(오차) 함수 -> 실제값(yData -> y라는 placeholder에 저장한다.)과 예측값(Y)의 편차에 대한 제곱의 평군을 이용한다.\n",
    "# => 평균 제곱법\n",
    "# reduce_mean() : tensorflow에서 평균을 계산하는 메소드\n",
    "# square() : tensorflow에서 제곱값을 계산하는 메소드\n",
    "\n",
    "cost = tf.reduce_mean(tf.square(Y - y)) # 예측값과 실제값의 편차의 제곱에 대한 평균을 계산한다. -> 평균 제곱법\n",
    "print(cost)"
   ]
  },
  {
   "cell_type": "markdown",
   "metadata": {},
   "source": [
    "#### tensorflow의 경사 하강법 메소드로 비용(오차)함수의 결과를 가장 작게 만드는  방향으로 학습을 시키도록 정의한다."
   ]
  },
  {
   "cell_type": "code",
   "execution_count": 7,
   "metadata": {},
   "outputs": [],
   "source": [
    "# 경사 하강 알고리즘의 학습율을 설정한다.\n",
    "learning_rate = tf.Variable(0.01)\n",
    "# tf.train.GradientDescentOptimizer() : tensorflow에서 학습율에 따른 비용(오차) 함수를 계산하는 함수\n",
    "optimizer = tf.train.GradientDescentOptimizer(learning_rate)\n",
    "\n",
    "#minimize() : 경사 하강 알고리즘에 따라 인수로 지정된 비용(오차) 함수의 최솟값을 찾는다.\n",
    "train = optimizer.minimize(cost)"
   ]
  },
  {
   "cell_type": "code",
   "execution_count": 25,
   "metadata": {},
   "outputs": [
    {
     "name": "stdout",
     "output_type": "stream",
     "text": [
      "   0 4578864640.00   10392.26    2099.31\n",
      " 500    8687822.00   25536.82    1953.68\n",
      "1000    8633824.00   25627.40    1505.09\n",
      "1500    8632674.00   25640.61    1439.72\n",
      "2000    8632650.00   25642.53    1430.20\n",
      "2500    8632654.00   25642.80    1428.82\n",
      "3000    8632657.00   25642.84    1428.63\n",
      "3500    8632656.00   25642.85    1428.61\n",
      "4000    8632656.00   25642.85    1428.61\n",
      "4500    8632656.00   25642.85    1428.61\n",
      "5000    8632656.00   25642.85    1428.61\n"
     ]
    }
   ],
   "source": [
    "sess = tf.Session()\n",
    "init = tf.global_variables_initializer()\n",
    "sess.run(init)\n",
    "\n",
    "for i in range(5001):\n",
    "    # 비용(오차)함수를 가장 작게 만드는 학습을 할 수 있도록 placeholder에 데이터를 대입한다.\n",
    "    # 학습할 데이터는 반드시 'feed_dict'라는 이름의 딕셔너리 타입의 자료형을 만들어 대입해야 한다.\n",
    "    # feed_dict 딕셔너리의 key에는 placeholder 이름을, value에는 각 placeholder에 대입할 리스트 타입의 데이터를 지정한다.\n",
    "    \n",
    "    # tensorflow 세션에서 비용(오차) 함수를 가장 작게 만드는 방향으로 feed_dict 딕셔너리의 데이터로 학습시킨다.\n",
    "    sess.run(train, feed_dict={x:xData,y:yData})\n",
    "    \n",
    "    # 500번 단위로 학습이 될 때 마다 머신러닝이 실행되는 중간 결과를 출력한다.\n",
    "    if i % 500 == 0:\n",
    "        # i, 오차, 기울기, y절편\n",
    "        print('{0:4d} {1:13.2f} {2:10.2f} {3:10.2f}'.format(i, sess.run(cost, feed_dict={x:xData,y:yData}), \n",
    "                                                            sess.run(a)[0], sess.run(b)[0]))\n",
    "\n",
    "# 초기 데이터에 따른 y = a * x + b 방정식 최적의 기울기(a)와 y절편(b)을 찾았다."
   ]
  },
  {
   "cell_type": "markdown",
   "metadata": {},
   "source": [
    "#### 학습이 완료된 후 원하는 입력에 대한 결과를 출력한다."
   ]
  },
  {
   "cell_type": "code",
   "execution_count": 19,
   "metadata": {},
   "outputs": [
    {
     "name": "stdout",
     "output_type": "stream",
     "text": [
      "                       8시간 근무를 했을 때 하루 매출 기대금액 :  206,571원\n",
      "                       9시간 근무를 했을 때 하루 매출 기대금액 :  232,214원\n",
      "                      10시간 근무를 했을 때 하루 매출 기대금액 :  257,857원\n",
      "                      11시간 근무를 했을 때 하루 매출 기대금액 :  283,500원\n",
      "                      12시간 근무를 했을 때 하루 매출 기대금액 :  309,143원\n",
      "                      13시간 근무를 했을 때 하루 매출 기대금액 :  334,786원\n",
      "                      14시간 근무를 했을 때 하루 매출 기대금액 :  360,428원\n",
      "                      15시간 근무를 했을 때 하루 매출 기대금액 :  386,071원\n",
      "                      16시간 근무를 했을 때 하루 매출 기대금액 :  411,714원\n",
      "                      17시간 근무를 했을 때 하루 매출 기대금액 :  437,357원\n",
      "                      18시간 근무를 했을 때 하루 매출 기대금액 :  463,000원\n",
      "                      19시간 근무를 했을 때 하루 매출 기대금액 :  488,643원\n",
      "                      20시간 근무를 했을 때 하루 매출 기대금액 :  514,286원\n",
      "                      21시간 근무를 했을 때 하루 매출 기대금액 :  539,928원\n",
      "                      22시간 근무를 했을 때 하루 매출 기대금액 :  565,571원\n",
      "                      23시간 근무를 했을 때 하루 매출 기대금액 :  591,214원\n",
      "                      24시간 근무를 했을 때 하루 매출 기대금액 :  616,857원\n"
     ]
    }
   ],
   "source": [
    "for i in range(8,25):\n",
    "    print('{0:24}시간 근무를 했을 때 하루 매출 기대금액 : {1:8,.0f}원'.format(i,sess.run(Y, feed_dict={x:[i]})[0]))"
   ]
  },
  {
   "cell_type": "code",
   "execution_count": null,
   "metadata": {},
   "outputs": [],
   "source": []
  },
  {
   "cell_type": "code",
   "execution_count": null,
   "metadata": {},
   "outputs": [],
   "source": []
  },
  {
   "cell_type": "code",
   "execution_count": null,
   "metadata": {},
   "outputs": [],
   "source": []
  },
  {
   "cell_type": "code",
   "execution_count": null,
   "metadata": {},
   "outputs": [],
   "source": []
  }
 ],
 "metadata": {
  "kernelspec": {
   "display_name": "Python 3",
   "language": "python",
   "name": "python3"
  },
  "language_info": {
   "codemirror_mode": {
    "name": "ipython",
    "version": 3
   },
   "file_extension": ".py",
   "mimetype": "text/x-python",
   "name": "python",
   "nbconvert_exporter": "python",
   "pygments_lexer": "ipython3",
   "version": "3.9.4"
  }
 },
 "nbformat": 4,
 "nbformat_minor": 4
}
