{
 "cells": [
  {
   "cell_type": "markdown",
   "metadata": {},
   "source": [
    "#### 공부 시간, 과외 시간과 성적 사이의 관계는 좌표로 나타냈을 때 형태가 직선으로 해결되는 선형 회귀를 사용하기에 적합했었다.\n",
    "#### 공부 시간에 따른 점수가 아닌 합격 여부로 발표되는 시험이 있을 경우 직선으로 해결하기에 적합하지 못한 문제가 발생된다.\n",
    "#### 이럴때 사용하는 로지스틱 회귀는 참과 거짓 중에 하나를 내놓는 과정으로 참과 거짓을 구분한 'S'자를 눕혀놓은 형태의 선을 그어주는 작업이다."
   ]
  },
  {
   "cell_type": "code",
   "execution_count": 1,
   "metadata": {},
   "outputs": [
    {
     "name": "stdout",
     "output_type": "stream",
     "text": [
      "INFO:tensorflow:Enabling eager execution\n",
      "INFO:tensorflow:Enabling v2 tensorshape\n",
      "INFO:tensorflow:Enabling resource variables\n",
      "INFO:tensorflow:Enabling tensor equality\n",
      "INFO:tensorflow:Enabling control flow v2\n",
      "INFO:tensorflow:Disabling eager execution\n",
      "INFO:tensorflow:Disabling v2 tensorshape\n",
      "WARNING:tensorflow:From c:\\users\\bkr03\\appdata\\local\\programs\\python\\python39\\lib\\site-packages\\tensorflow\\python\\compat\\v2_compat.py:96: disable_resource_variables (from tensorflow.python.ops.variable_scope) is deprecated and will be removed in a future version.\n",
      "Instructions for updating:\n",
      "non-resource variables are not supported in the long term\n",
      "INFO:tensorflow:Disabling resource variables\n",
      "INFO:tensorflow:Disabling tensor equality\n",
      "INFO:tensorflow:Disabling control flow v2\n"
     ]
    }
   ],
   "source": [
    "import warnings                        \n",
    "warnings.filterwarnings('ignore')  \n",
    "import numpy as np\n",
    "import pandas as pd\n",
    "import tensorflow.compat.v1 as tf\n",
    "tf.disable_v2_behavior()"
   ]
  },
  {
   "cell_type": "markdown",
   "metadata": {},
   "source": [
    "#### http://taewan.kim/post/sigmoid_diff/ 참조\n",
    "#### https://devlog.jwgo.kr/2018/04/16/sigmoid-graph-according-to-slope-change/ 참조"
   ]
  },
  {
   "cell_type": "code",
   "execution_count": 2,
   "metadata": {},
   "outputs": [
    {
     "name": "stdout",
     "output_type": "stream",
     "text": [
      "공부 시간: [2, 4, 6, 8, 10, 12, 14], 합격 여부: [0, 0, 0, 1, 1, 1, 1]\n"
     ]
    }
   ],
   "source": [
    "# 공부 시간(x), 합격 여부(y) -> [공부시간, 합격여부]\n",
    "data = [[2, 0], [4, 0], [6, 0], [8, 1], [10, 1], [12, 1], [14, 1]]\n",
    "xData = [i[0] for i in data] #공부 시간\n",
    "yData = [i[1] for i in data] # 합격 여부\n",
    "print('공부 시간: {}, 합격 여부: {}'.format(xData, yData))"
   ]
  },
  {
   "cell_type": "code",
   "execution_count": 3,
   "metadata": {},
   "outputs": [
    {
     "name": "stdout",
     "output_type": "stream",
     "text": [
      "a: [1.77770412], b: [1.15539401]\n"
     ]
    }
   ],
   "source": [
    "# 기울기(a)와 y절편(b) 값을 랜덤한 값으로 정한다.\n",
    "a = tf.Variable(tf.random_normal([1], dtype=tf.float64))\n",
    "b = tf.Variable(tf.random_normal([1], dtype=tf.float64))\n",
    "sess = tf.Session()\n",
    "sess.run(tf.global_variables_initializer())\n",
    "print('a: {}, b: {}'.format(sess.run(a),sess.run(b)))"
   ]
  },
  {
   "cell_type": "markdown",
   "metadata": {},
   "source": [
    "#### 시그모이드 방정식"
   ]
  },
  {
   "cell_type": "code",
   "execution_count": 4,
   "metadata": {},
   "outputs": [],
   "source": [
    "# np.e : 넘파이에서 지수 값(2.718281828459045)을 의미하는 상수\n",
    "#print(np.e)\n",
    "y = 1 / (1 + np.e**-(a * xData + b))"
   ]
  },
  {
   "cell_type": "markdown",
   "metadata": {},
   "source": [
    "#### 시그모이드 방정식의 오차를 계산하는 수식을 만든다.\n",
    "#### 시그모이드 함수의 특성은 예측값(y)이 항상 0아니면 1이다."
   ]
  },
  {
   "cell_type": "code",
   "execution_count": 5,
   "metadata": {},
   "outputs": [],
   "source": [
    "loss = -tf.reduce_mean(np.array(yData)*tf.log(y) + (1 - np.array(yData)) * tf.log(1-y))"
   ]
  },
  {
   "cell_type": "markdown",
   "metadata": {},
   "source": [
    "#### 오차를 최소로 하는 값을 찾는다."
   ]
  },
  {
   "cell_type": "code",
   "execution_count": 6,
   "metadata": {},
   "outputs": [],
   "source": [
    "gradient_descent = tf.train.GradientDescentOptimizer(0.01).minimize(loss)"
   ]
  },
  {
   "cell_type": "markdown",
   "metadata": {},
   "source": [
    "#### 학습시킨다."
   ]
  },
  {
   "cell_type": "code",
   "execution_count": 7,
   "metadata": {},
   "outputs": [
    {
     "name": "stdout",
     "output_type": "stream",
     "text": [
      "epoch:      0, loss:   6.1189, 기울기:  -1.0258, y절편:   0.6390\n",
      "epoch:   5000, loss:   0.1963, 기울기:   0.5905, y절편:  -3.7274\n",
      "epoch:  10000, loss:   0.1375, 기울기:   0.8163, y절편:  -5.4072\n",
      "epoch:  15000, loss:   0.1120, 기울기:   0.9694, y절편:  -6.5209\n",
      "epoch:  20000, loss:   0.0967, 기울기:   1.0895, y절편:  -7.3855\n",
      "epoch:  25000, loss:   0.0861, 기울기:   1.1902, y절편:  -8.1063\n",
      "epoch:  30000, loss:   0.0781, 기울기:   1.2779, y절편:  -8.7320\n",
      "epoch:  35000, loss:   0.0718, 기울기:   1.3563, y절편:  -9.2890\n",
      "epoch:  40000, loss:   0.0666, 기울기:   1.4274, y절편:  -9.7938\n",
      "epoch:  45000, loss:   0.0622, 기울기:   1.4928, y절편: -10.2570\n",
      "epoch:  50000, loss:   0.0584, 기울기:   1.5535, y절편: -10.6862\n",
      "epoch:  55000, loss:   0.0551, 기울기:   1.6102, y절편: -11.0869\n",
      "epoch:  60000, loss:   0.0522, 기울기:   1.6635, y절편: -11.4633\n",
      "epoch:  65000, loss:   0.0497, 기울기:   1.7139, y절편: -11.8186\n",
      "epoch:  70000, loss:   0.0474, 기울기:   1.7616, y절편: -12.1554\n",
      "epoch:  75000, loss:   0.0453, 기울기:   1.8071, y절편: -12.4757\n",
      "epoch:  80000, loss:   0.0434, 기울기:   1.8505, y절편: -12.7813\n",
      "epoch:  85000, loss:   0.0416, 기울기:   1.8920, y절편: -13.0736\n",
      "epoch:  90000, loss:   0.0400, 기울기:   1.9318, y절편: -13.3538\n",
      "epoch:  95000, loss:   0.0385, 기울기:   1.9701, y절편: -13.6231\n",
      "epoch: 100000, loss:   0.0372, 기울기:   2.0069, y절편: -13.8822\n",
      "epoch: 105000, loss:   0.0359, 기울기:   2.0425, y절편: -14.1320\n",
      "epoch: 110000, loss:   0.0347, 기울기:   2.0768, y절편: -14.3732\n",
      "epoch: 115000, loss:   0.0336, 기울기:   2.1099, y절편: -14.6064\n",
      "epoch: 120000, loss:   0.0325, 기울기:   2.1421, y절편: -14.8322\n",
      "epoch: 125000, loss:   0.0316, 기울기:   2.1732, y절편: -15.0510\n",
      "epoch: 130000, loss:   0.0307, 기울기:   2.2034, y절편: -15.2632\n",
      "epoch: 135000, loss:   0.0298, 기울기:   2.2327, y절편: -15.4693\n",
      "epoch: 140000, loss:   0.0290, 기울기:   2.2613, y절편: -15.6696\n",
      "epoch: 145000, loss:   0.0282, 기울기:   2.2890, y절편: -15.8644\n",
      "epoch: 150000, loss:   0.0275, 기울기:   2.3160, y절편: -16.0541\n",
      "epoch: 155000, loss:   0.0268, 기울기:   2.3424, y절편: -16.2390\n",
      "epoch: 160000, loss:   0.0261, 기울기:   2.3680, y절편: -16.4192\n",
      "epoch: 165000, loss:   0.0255, 기울기:   2.3931, y절편: -16.5950\n",
      "epoch: 170000, loss:   0.0249, 기울기:   2.4175, y절편: -16.7666\n",
      "epoch: 175000, loss:   0.0243, 기울기:   2.4414, y절편: -16.9342\n",
      "epoch: 180000, loss:   0.0237, 기울기:   2.4648, y절편: -17.0980\n",
      "epoch: 185000, loss:   0.0232, 기울기:   2.4876, y절편: -17.2582\n",
      "epoch: 190000, loss:   0.0227, 기울기:   2.5099, y절편: -17.4149\n",
      "epoch: 195000, loss:   0.0222, 기울기:   2.5318, y절편: -17.5684\n",
      "epoch: 200000, loss:   0.0218, 기울기:   2.5532, y절편: -17.7186\n",
      "epoch: 205000, loss:   0.0213, 기울기:   2.5742, y절편: -17.8658\n",
      "epoch: 210000, loss:   0.0209, 기울기:   2.5948, y절편: -18.0100\n",
      "epoch: 215000, loss:   0.0205, 기울기:   2.6149, y절편: -18.1514\n",
      "epoch: 220000, loss:   0.0201, 기울기:   2.6347, y절편: -18.2901\n",
      "epoch: 225000, loss:   0.0197, 기울기:   2.6541, y절편: -18.4263\n",
      "epoch: 230000, loss:   0.0194, 기울기:   2.6732, y절편: -18.5599\n",
      "epoch: 235000, loss:   0.0190, 기울기:   2.6919, y절편: -18.6911\n",
      "epoch: 240000, loss:   0.0187, 기울기:   2.7102, y절편: -18.8199\n",
      "epoch: 245000, loss:   0.0184, 기울기:   2.7283, y절편: -18.9466\n",
      "epoch: 250000, loss:   0.0180, 기울기:   2.7460, y절편: -19.0710\n",
      "epoch: 255000, loss:   0.0177, 기울기:   2.7635, y절편: -19.1933\n",
      "epoch: 260000, loss:   0.0174, 기울기:   2.7807, y절편: -19.3137\n",
      "epoch: 265000, loss:   0.0171, 기울기:   2.7975, y절편: -19.4320\n",
      "epoch: 270000, loss:   0.0169, 기울기:   2.8141, y절편: -19.5485\n",
      "epoch: 275000, loss:   0.0166, 기울기:   2.8305, y절편: -19.6631\n",
      "epoch: 280000, loss:   0.0163, 기울기:   2.8466, y절편: -19.7759\n",
      "epoch: 285000, loss:   0.0161, 기울기:   2.8624, y절편: -19.8870\n",
      "epoch: 290000, loss:   0.0158, 기울기:   2.8780, y절편: -19.9964\n",
      "epoch: 295000, loss:   0.0156, 기울기:   2.8934, y절편: -20.1042\n",
      "epoch: 300000, loss:   0.0154, 기울기:   2.9086, y절편: -20.2104\n"
     ]
    }
   ],
   "source": [
    "sess = tf.Session()\n",
    "sess.run(tf.global_variables_initializer())\n",
    "\n",
    "for i in range(300001):\n",
    "    sess.run(gradient_descent)\n",
    "    if i%5000 == 0:\n",
    "        # 학습횟수(epoch), 오차, 기울기, y절편\n",
    "        print('epoch: %6d, loss: %8.4f, 기울기: %8.4f, y절편: %8.4f' %(i, sess.run(loss), sess.run(a), sess.run(b)))"
   ]
  },
  {
   "cell_type": "code",
   "execution_count": null,
   "metadata": {},
   "outputs": [],
   "source": []
  }
 ],
 "metadata": {
  "kernelspec": {
   "display_name": "Python 3",
   "language": "python",
   "name": "python3"
  },
  "language_info": {
   "codemirror_mode": {
    "name": "ipython",
    "version": 3
   },
   "file_extension": ".py",
   "mimetype": "text/x-python",
   "name": "python",
   "nbconvert_exporter": "python",
   "pygments_lexer": "ipython3",
   "version": "3.9.4"
  }
 },
 "nbformat": 4,
 "nbformat_minor": 4
}
