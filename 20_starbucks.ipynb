{
 "cells": [
  {
   "cell_type": "code",
   "execution_count": 1,
   "metadata": {},
   "outputs": [],
   "source": [
    "import warnings                                      # 경고 메시지를 출력하지 않기 위해 import 한다.\n",
    "warnings.filterwarnings('ignore')   \n",
    "import requests"
   ]
  },
  {
   "cell_type": "markdown",
   "metadata": {},
   "source": [
    "### 시도 코드 크롤링"
   ]
  },
  {
   "cell_type": "code",
   "execution_count": 2,
   "metadata": {},
   "outputs": [
    {
     "name": "stdout",
     "output_type": "stream",
     "text": [
      "<Response [200]>\n",
      "<class 'requests.models.Response'>\n"
     ]
    }
   ],
   "source": [
    "targetSize = 'https://www.starbucks.co.kr/store/getSidoList.do' # 타겟 사이트 ,요청 경로\n",
    "# Request URl (https://www.starbucks.co.kr/store/getSidoList.do)를 요청하는 방식인 Request Method가 POST 방식이므로 request 모듈의\n",
    "# post() 메소드로 서버에 정보를 요청한다.\n",
    "#Request Method POST 방식일 경우 서버에 정보를 요청할 떄 넘겨 주는 데이터가 있으므로 Form Data 내용을 같이 전달해야한다.\n",
    "request = requests.post(targetSize,data={\n",
    "    'rndCod':'6G4LAKAPYQ'\n",
    "})\n",
    "print(request)\n",
    "print(type(request))\n"
   ]
  },
  {
   "cell_type": "code",
   "execution_count": 3,
   "metadata": {},
   "outputs": [
    {
     "name": "stdout",
     "output_type": "stream",
     "text": [
      "<class 'dict'>\n"
     ]
    }
   ],
   "source": [
    "import json\n",
    "star_json = json.loads(request.text)\n",
    "print(type(star_json))\n",
    "#print(star_json)"
   ]
  },
  {
   "cell_type": "code",
   "execution_count": 4,
   "metadata": {},
   "outputs": [
    {
     "name": "stdout",
     "output_type": "stream",
     "text": [
      "<class 'dict'>\n"
     ]
    }
   ],
   "source": [
    "# requests 모듈의 json() 메소드로 크롤링한 json 타입의 문자열을 파이썬에서 처리하기 위해 딕셔너리 타입으로 변환한다.\n",
    "sidoList = request.json() # 딕셔너리 타입으로 바뀐다.\n",
    "print(type(sidoList)) # <class 'dict'>\n",
    "#print(sidoList)"
   ]
  },
  {
   "cell_type": "code",
   "execution_count": 5,
   "metadata": {},
   "outputs": [
    {
     "name": "stdout",
     "output_type": "stream",
     "text": [
      "<class 'list'>\n",
      "17\n"
     ]
    }
   ],
   "source": [
    "print(type(sidoList['list'])) # <class 'list'>\n",
    "print(len(sidoList['list'])) # 17\n",
    "#print(sidoList['list'])"
   ]
  },
  {
   "cell_type": "code",
   "execution_count": 6,
   "metadata": {},
   "outputs": [
    {
     "name": "stdout",
     "output_type": "stream",
     "text": [
      "{'01': '서울', '08': '경기', '02': '광주', '03': '대구', '04': '대전', '05': '부산', '06': '울산', '07': '인천', '09': '강원', '10': '경남', '11': '경북', '12': '전남', '13': '전북', '14': '충남', '15': '충북', '16': '제주', '17': '세종'}\n"
     ]
    }
   ],
   "source": [
    "# 시도 코드의 개수 만큼 반복하며 시도 코드('sido_cd')를 key로 하고 시도 이름('sido_nm')을 value로 하는 딕셔너리를 만든다.\n",
    "sido_List = {}\n",
    "for sido in sidoList['list']:\n",
    "    #print('{} : {}'.format(sido['sido_cd'], sido['sido_nm']))\n",
    "    #sido_List 딕셔너리에 시도 코드를 key로 하고 시도 이름을 value로 해서 저장시킨다.\n",
    "    sido_List[sido['sido_cd']] = sido['sido_nm']\n",
    "print(sido_List)"
   ]
  },
  {
   "cell_type": "markdown",
   "metadata": {},
   "source": [
    "### 구군 코드 크롤링"
   ]
  },
  {
   "cell_type": "code",
   "execution_count": 7,
   "metadata": {},
   "outputs": [
    {
     "name": "stdout",
     "output_type": "stream",
     "text": [
      "구군 코드를 검색할 시도 코드를 입력하세요 : 01\n",
      "<class 'dict'>\n",
      "{'seq': 0, 'sido_cd': None, 'sido_nm': None, 'gugun_cd': '0101', 'gugun_nm': '강남구', 'code_order': None, 'view_yn': None, 'store_num': None, 'sido': None, 'gugun': None, 'address': None, 'new_img_nm': None, 'p_pro_seq': 0, 'p_view_yn': None, 'p_sido_cd': '', 'p_gugun_cd': '', 'p_store_nm': None, 'p_theme_cd': None, 'p_wireless_yn': None, 'p_smoking_yn': None, 'p_book_yn': None, 'p_music_yn': None, 'p_terrace_yn': None, 'p_table_yn': None, 'p_takeout_yn': None, 'p_parking_yn': None, 'p_dollar_assent': None, 'p_card_recharge': None, 'p_subway_yn': None, 'stb_store_file_renew': None, 'stb_store_theme_renew': None, 'stb_store_time_renew': None, 'stb_store_lsm': None, 's_code': None, 's_name': None, 'tel': None, 'fax': None, 'sido_code': None, 'sido_name': None, 'gugun_code': None, 'gugun_name': None, 'addr': None, 'park_info': None, 'new_state': None, 'theme_state': None, 'new_bool': 0, 'search_text': '', 'ins_lat': '', 'ins_lng': '', 'in_distance': 0, 'out_distance': None, 'all_search_cnt': -1, 'addr_search_cnt': -1, 'store_search_cnt': -1, 'rowCount': 30, 'store_nm': '', 'store_cd': 0, 's_biz_code': '', 'new_icon': '', 'set_user': '', 'favorites': 0, 'map_desc': None, 'notice': None, 'defaultimage': None, 'etcimage': None, 'in_biz_cd': None, 'in_store_cd': None, 'in_favorites': None, 'in_user_id': None, 'in_biz_cds': 0, 'in_biz_arr': None, 'in_biz_arrdata': None, 'in_scodes': 0, 'in_scode_arr': None, 'in_scode_arrdata': None, 'disp': None, 'set_date': None, 'hlytag': None, 'hlytag_msg': None, 'vSal': '', 'istart': 1, 'iend': 60, 'open_dt': '', 'gold_card': 0, 'ip_lat': '', 'ip_long': '', 'espresso': '', 'new_store': '', 'premiere_food': '', 'doro_address': '', 'cold_blew': '', 'my_siren_order_store_yn': 'N', 'whcroad_yn': '', 'skuNo': '', 'skuName': '', 'skuImgUrl': '', 'stock_count': 0, 'store_area_name': None, 'store_area_code': None, 'is_open': None, 'lat': None, 'lot': None, 't20': 0, 't04': 0, 't03': 0, 't01': 0, 't12': 0, 't09': 0, 't06': 0, 't10': 0, 'p10': 0, 'p50': 0, 'p20': 0, 'p60': 0, 'p30': 0, 'p70': 0, 'p40': 0, 'p80': 0, 't22': 0, 't21': 0, 'p90': 0, 't05': 0, 't30': 0, 't36': 0, 't27': 0, 't43': 0}\n"
     ]
    }
   ],
   "source": [
    "# 크롤링할 시도 코드를 입력받는다.\n",
    "sido_cd = input('구군 코드를 검색할 시도 코드를 입력하세요 : ')\n",
    "targetSize = 'https://www.starbucks.co.kr/store/getGugunList.do'\n",
    "\n",
    "request = requests.post(targetSize,data={\n",
    "    'sido_cd': sido_cd,\n",
    "    'rndCod': 'DEVUD0GPXI' # 뺴도 상관없다.\n",
    "})\n",
    "\n",
    "gugunList = request.json()\n",
    "print(type(gugunList)) # <class 'dict'>\n",
    "print(gugunList['list'][0])"
   ]
  },
  {
   "cell_type": "code",
   "execution_count": 8,
   "metadata": {},
   "outputs": [
    {
     "name": "stdout",
     "output_type": "stream",
     "text": [
      "0101 : 강남구\n",
      "0120 : 강동구\n",
      "0102 : 강북구\n",
      "0103 : 강서구\n",
      "0104 : 관악구\n",
      "0105 : 광진구\n",
      "0121 : 구로구\n",
      "0106 : 금천구\n",
      "0107 : 노원구\n",
      "0108 : 도봉구\n",
      "0122 : 동대문구\n",
      "0109 : 동작구\n",
      "0110 : 마포구\n",
      "0111 : 서대문구\n",
      "0112 : 서초구\n",
      "0123 : 성동구\n",
      "0113 : 성북구\n",
      "0114 : 송파구\n",
      "0115 : 양천구\n",
      "0116 : 영등포구\n",
      "0124 : 용산구\n",
      "0117 : 은평구\n",
      "0118 : 종로구\n",
      "0119 : 중구\n",
      "0125 : 중랑구\n",
      "{'0101': '강남구', '0120': '강동구', '0102': '강북구', '0103': '강서구', '0104': '관악구', '0105': '광진구', '0121': '구로구', '0106': '금천구', '0107': '노원구', '0108': '도봉구', '0122': '동대문구', '0109': '동작구', '0110': '마포구', '0111': '서대문구', '0112': '서초구', '0123': '성동구', '0113': '성북구', '0114': '송파구', '0115': '양천구', '0116': '영등포구', '0124': '용산구', '0117': '은평구', '0118': '종로구', '0119': '중구', '0125': '중랑구'}\n"
     ]
    }
   ],
   "source": [
    "# 구군 코드의 개수 만큼 반복하며 구군 코드(gugun_cd')를 key로 하고 구군 이름('gugun_nm')을 value로 하는 딕셔너리를 만든다.\n",
    "gugun_List = {}\n",
    "for gugun in gugunList['list']:\n",
    "    print('{} : {}'.format(gugun['gugun_cd'], gugun['gugun_nm']))\n",
    "    gugun_List[gugun['gugun_cd']] = gugun['gugun_nm']\n",
    "print(gugun_List)"
   ]
  },
  {
   "cell_type": "code",
   "execution_count": 10,
   "metadata": {
    "scrolled": true
   },
   "outputs": [
    {
     "name": "stdout",
     "output_type": "stream",
     "text": [
      "83\n",
      "   1. 역삼이마트 : 서울특별시 강남구 역삼로 310 (역삼동)(37.499367, 127.048425)\n",
      "   2. 테헤란로아남타워 : 서울특별시 강남구 테헤란로 311 (역삼동)(37.50383, 127.04487)\n",
      "   3. 대치삼성프라자 : 서울특별시 강남구 영동대로 237 (대치동)(37.500313, 127.066961)\n",
      "   4. 코엑스아셈타워 : 서울특별시 강남구 영동대로 517 (삼성동)(37.513019, 127.059838)\n",
      "   5. 대치한티 : 서울특별시 강남구 선릉로 324 (대치동)(37.4984818, 127.0520660)\n",
      "   6. 도산가로수길 : 서울특별시 강남구 도산대로 134, 2층 (논현동)(37.51736229999999, 127.02329570000006)\n",
      "   7. 논현힐탑 : 서울특별시 강남구 논현로 648 (논현동)(37.5115577, 127.03226199999994)\n",
      "   8. 선릉로 : 서울특별시 강남구 선릉로93길 22, 대흥빌딩 1층 (역삼동)(37.505053, 127.046577)\n",
      "   9. 포스코 : 서울특별시 강남구 삼성로86길 7, 1층 (대치동)(37.50576, 127.057966)\n",
      "  10. 르네상스사거리 : 서울특별시 강남구 테헤란로 306 (역삼동)(37.502721, 127.044308)\n",
      "  11. 압구정로데오역 : 서울특별시 강남구 선릉로 836, 삼원빌딩 1,2층 (청담동)(37.526549, 127.040437)\n",
      "  12. 역삼역 : 서울특별시 강남구 테헤란로 145, 우신빌딩 1층 (역삼동)(37.50080096, 127.0351577)\n",
      "  13. 강남비젼타워 : 서울특별시 강남구 테헤란로2길 27, 1층 101호 (역삼동)(37.4964557, 127.02968850000002)\n",
      "  14. 뱅뱅사거리 : 서울특별시 강남구 강남대로 282 (도곡동)(37.488585, 127.032415)\n",
      "  15. 아크로힐스논현 : 서울특별시 강남구 봉은사로 304, 금강빌딩 1-2층 (역삼동)(37.50898041, 127.0403869)\n",
      "  16. 신압구정 : 서울특별시 강남구 언주로174길 29 (신사동)(37.528115, 127.036441)\n",
      "  17. 청담공원 : 서울특별시 강남구 학동로 506 (삼성동)(37.5186549, 127.05143870000006)\n",
      "  18. 차병원사거리 : 서울특별시 강남구 봉은사로 213, 센트럴타워 (논현동)(37.508032, 127.035373)\n",
      "  19. 역삼럭키 : 서울특별시 강남구 도곡로 183 (역삼동)(37.492209, 127.039389)\n",
      "  20. 코엑스사거리 : 서울특별시 강남구 영동대로 616 (삼성동)(37.515351, 127.060109)\n",
      "  21. 수서 : 서울특별시 강남구 밤고개로1길 10 (수서동) 수서현대벤쳐빌 지하2층(37.48801132, 127.1017508)\n",
      "  22. 선릉역 : 서울특별시 강남구 테헤란로 334, LG화재 빌딩 (역삼동)(37.50393894, 127.0485135)\n",
      "  23. 압구정미소 : 서울특별시 강남구 논현로 841 (신사동)(37.52405601, 127.027915)\n",
      "  24. GS타워 : 서울특별시 강남구 논현로 508 (역삼동)(37.5018592, 127.03727759999992)\n",
      "  25. 삼성현대힐 : 서울특별시 강남구 삼성로 605 (삼성동)(37.51354184, 127.0527183)\n",
      "  26. 선정릉역 : 서울특별시 강남구 봉은사로 407 (삼성동) 에프오빌딩(37.51075489999999, 127.04455970000003)\n",
      "  27. 학여울역 : 서울특별시 강남구 영동대로 215 (대치동)(37.49803646, 127.0684943)\n",
      "  28. 아크플레이스 : 서울특별시 강남구 테헤란로 142 (역삼동)(37.49971982, 127.0349084)\n",
      "  29. 포이 : 서울특별시 강남구 논현로 88 (개포동)(37.47781106, 127.0451411)\n",
      "  30. 대치역 : 서울특별시 강남구 남부순환로 2936 (대치동) 107호(37.493554, 127.061874)\n",
      "  31. 강남구청역 : 서울특별시 강남구 선릉로 669, 웰빙센터 1층 (논현동)(37.5165849, 127.04124330000002)\n",
      "  32. 큰길타워 : 서울특별시 강남구 테헤란로 223, 큰길타워빌딩 (역삼동)(37.50236693, 127.0407)\n",
      "  33. 구역삼사거리 : 서울특별시 강남구 논현로 401 (역삼동)(37.49592355, 127.0388645)\n",
      "  34. 압구정로 : 서울특별시 강남구 압구정로42길 32 (신사동)(37.52680046, 127.0347174)\n",
      "  35. 압구정역 : 서울특별시 강남구 압구정로 170, 관영빌딩 1층 지하1층 (신사동)(37.52674095, 127.0281105)\n",
      "  36. 선릉세화빌딩 : 서울특별시 강남구 테헤란로64길 18 (대치동) 1층(37.50377562, 127.051196)\n",
      "  37. 삼성 : 서울특별시 강남구 테헤란로 443, 애플트리타워 1층 (삼성동)(37.50703529, 127.0555503)\n",
      "  38. SSG마켓도곡R : 서울특별시 강남구 언주로30길 57, 타워팰리스Ⅱ F 지하1층 (도곡동)(37.490298, 127.054895)\n",
      "  39. 대치 : 서울특별시 강남구 도곡로 511 (대치동)(37.49966175, 127.0622171)\n",
      "  40. 학동역 : 서울특별시 강남구 논현로 704 (논현동)(37.51464884, 127.0307302)\n",
      "  41. 삼성교 : 서울특별시 강남구 영동대로86길 12, 동남유화빌딩 1층(37.507794, 127.06517)\n",
      "  42. 삼성도심공항 : 서울특별시 강남구 테헤란로87길 33 (삼성동)(37.5097863, 127.05791339999996)\n",
      "  43. 청담 : 서울특별시 강남구 도산대로 532, 인희빌딩 1층 (청담동)(37.5243631, 127.05155990000003)\n",
      "  44. 강남대로 : 서울특별시 강남구 강남대로 456, 한석타워 2층 1-2호 (역삼동)(37.50314, 127.025546)\n",
      "  45. 역삼포스코 : 서울특별시 강남구 테헤란로 134, P&S TOWER (역삼동)(37.499721, 127.033582)\n",
      "  46. 역삼대로 : 서울특별시 강남구 테헤란로 211, 한국고등교육재단빌딩 1층 (역삼동)(37.501623, 127.039375)\n",
      "  47. 가로수길 : 서울특별시 강남구 논현로175길 94, 1~2층 (신사동)(37.5231593, 127.02162499999997)\n",
      "  48. 코엑스몰 : 서울특별시 강남구 영동대로 513 (삼성동) O103호(37.513715, 127.059245)\n",
      "  49. 역삼초교사거리 : 서울특별시 강남구 역삼로 123 (역삼동)(37.4941059, 127.03299730000003)\n",
      "  50. 한티역 : 서울특별시 강남구 도곡로 408, 디마크빌딩 101호 (대치동)(37.496801, 127.055055)\n",
      "  51. 청담사거리 : 서울특별시 강남구 도산대로 458 (청담동) 리츠타워(37.5236351, 127.04686509999999)\n",
      "  52. 서울세관사거리 : 서울특별시 강남구 언주로 650 (논현동) 한국건설기술인협회(37.514887, 127.035653)\n",
      "  53. 도곡역 : 서울특별시 강남구 남부순환로 2909 (대치동)(37.492167, 127.057398)\n",
      "  54. 신사역 : 서울특별시 강남구 도산대로 108 (논현동) 렉스타워(37.5162021, 127.0207428)\n",
      "  55. 을지병원사거리 : 서울특별시 강남구 논현로 752 (논현동,구산빌딩)(37.5191632, 127.0286446)\n",
      "  56. 포스코사거리 : 서울특별시 강남구 테헤란로 505 (삼성동) 화진빌딩(37.5075307, 127.05742710000004)\n",
      "  57. 대치사거리 : 서울특별시 강남구 삼성로 402 (대치동)(37.503331, 127.058817)\n",
      "  58. 학동사거리 : 서울특별시 강남구 도산대로 328 (논현동)(37.52236449999999, 127.03795430000002)\n",
      "  59. 강남우성 : 서울특별시 강남구 강남대로 328 (역삼동)(37.492396, 127.030910)\n",
      "  60. 청담스타R : 서울특별시 강남구 도산대로57길 24 (청담동)(37.525216, 127.041827)\n",
      "  61. 신사가로수 : 서울특별시 강남구 가로수길 59 (37.521933, 127.022521)\n",
      "  62. 압구정 : 서울특별시 강남구 압구정로30길 17 (신사동)(37.526283, 127.029560)\n",
      "  63. 청담영동대로 : 서울특별시 강남구 영동대로 720 (청담동)(37.522156, 127.056449)\n",
      "  64. 대치은마사거리 : 서울특별시 강남구 도곡로 457 (대치동)(37.498973, 127.060172)\n",
      "  65. 강남R : 서울특별시 강남구 강남대로 390 (역삼동)(37.497711, 127.028439)\n",
      "  66. 도곡공원 : 서울특별시 강남구 도곡로 205 (역삼동)(37.492805, 127.041309)\n",
      "  67. 강남구청정문 : 서울특별시 강남구 학동로 419 (청담동)(37.518181, 127.045995)\n",
      "  68. 스타필드코엑스몰R : 서울특별시 강남구 영동대로 513 (삼성동) 코엑스 A106호(37.50999, 127.061455)\n",
      "  69. 강남오거리 : 서울특별시 강남구 봉은사로2길 39 (역삼동)(37.502117, 127.026672)\n",
      "  70. 봉은사로선정릉 : 서울특별시 강남구 봉은사로 446 (삼성동)(37.511293, 127.048409)\n",
      "  71. 선릉동신빌딩R : 서울특별시 강남구 테헤란로 409 (삼성동)(37.505321, 127.050409)\n",
      "  72. 양재강남빌딩R : 서울특별시 강남구 남부순환로 2621 (도곡동)(37.485192, 127.036685)\n",
      "  73. 수서역R : 서울특별시 강남구 광평로 281 (수서동)(37.488008, 127.102650)\n",
      "  74. 압구정R : 서울특별시 강남구 언주로 861 (신사동)(37.5273669, 127.033061)\n",
      "  75. 삼성역섬유센터R : 서울특별시 강남구 테헤란로 518 (대치동)(37.507750, 127.060651)\n",
      "  76. 코엑스별마당 : 서울특별시 강남구 영동대로 513 (삼성동)(37.510150, 127.060275)\n",
      "  77. 압구정윤성빌딩 : 서울특별시 강남구 논현로 834 (신사동)(37.5227934, 127.0286009)\n",
      "  78. 봉은사역 : 서울특별시 강남구 봉은사로 619 (삼성동)(37.515000, 127.063196)\n",
      "  79. 스탈릿대치R : 서울특별시 강남구 남부순환로 2947 (대치동)(37.494668, 127.062583)\n",
      "  80. 국기원사거리 : 서울특별시 강남구 테헤란로 125 (역삼동)(37.499517, 127.031495)\n",
      "  81. 신사역성일빌딩 : 서울특별시 강남구 강남대로 584 (논현동)(37.514132, 127.020563)\n",
      "  82. 논현역사거리 : 서울특별시 강남구 강남대로 538 (논현동)(37.510178, 127.022223)\n",
      "  83. 역삼아레나빌딩 : 서울특별시 강남구 언주로 425 (역삼동)(37.501087, 127.043069)\n",
      "DT 개수 : 0\n"
     ]
    }
   ],
   "source": [
    "# 크롤링할 구군 코드를 입력받는다.\n",
    "#gugun_cd = input('매장 정보를 확인 할 구군 코드를 입력하세요 : ')\n",
    "\n",
    "targetSize = 'https://www.starbucks.co.kr/store/getStore.do?r=4SN84R4DCR'\n",
    "request = requests.post(targetSize,data={\n",
    "\n",
    "    'ins_lat': 37.4931456, # 위도 \n",
    "    'ins_lng': 127.0317056, # 경도\n",
    "    'p_sido_cd': '01', # 시도 코드\n",
    "    'p_gugun_cd': '0101', # 구군 코드\n",
    "    'in_biz_cd':'', # ? \n",
    "    'iend': 1600, # 서버가 응답하는 최대 매장의 개수\n",
    "    'set_date': ''# ?\n",
    "    # 'in_biz_cd', 'set_date'를 넘겨주지 않으면 서버에서 데이터를 얻어오지 못한다.\n",
    "})\n",
    "storeList = request.json()\n",
    "print(len(storeList['list']))\n",
    "\n",
    "count = 0\n",
    "dt=0\n",
    "for store in storeList['list']:\n",
    "    count += 1\n",
    "    print('{0:4d}. {1} : {2}({3}, {4})'.format(count, store['s_name'], store['doro_address'], store['lat'], store['lot']))\n",
    "    if store['s_name'].find('DT') >=0:\n",
    "        dt+=1\n",
    "\n",
    "print('DT 개수 : {}'.format(dt))"
   ]
  },
  {
   "cell_type": "code",
   "execution_count": null,
   "metadata": {},
   "outputs": [],
   "source": []
  }
 ],
 "metadata": {
  "kernelspec": {
   "display_name": "Python 3",
   "language": "python",
   "name": "python3"
  },
  "language_info": {
   "codemirror_mode": {
    "name": "ipython",
    "version": 3
   },
   "file_extension": ".py",
   "mimetype": "text/x-python",
   "name": "python",
   "nbconvert_exporter": "python",
   "pygments_lexer": "ipython3",
   "version": "3.8.5"
  }
 },
 "nbformat": 4,
 "nbformat_minor": 4
}
