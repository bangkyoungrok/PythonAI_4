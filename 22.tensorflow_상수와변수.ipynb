{
 "cells": [
  {
   "cell_type": "code",
   "execution_count": 1,
   "metadata": {},
   "outputs": [],
   "source": [
    "import warnings                        \n",
    "warnings.filterwarnings('ignore')   "
   ]
  },
  {
   "cell_type": "code",
   "execution_count": 2,
   "metadata": {},
   "outputs": [
    {
     "name": "stdout",
     "output_type": "stream",
     "text": [
      "INFO:tensorflow:Enabling eager execution\n",
      "INFO:tensorflow:Enabling v2 tensorshape\n",
      "INFO:tensorflow:Enabling resource variables\n",
      "INFO:tensorflow:Enabling tensor equality\n",
      "INFO:tensorflow:Enabling control flow v2\n",
      "INFO:tensorflow:Disabling eager execution\n",
      "INFO:tensorflow:Disabling v2 tensorshape\n",
      "WARNING:tensorflow:From c:\\users\\bkr03\\appdata\\local\\programs\\python\\python39\\lib\\site-packages\\tensorflow\\python\\compat\\v2_compat.py:96: disable_resource_variables (from tensorflow.python.ops.variable_scope) is deprecated and will be removed in a future version.\n",
      "Instructions for updating:\n",
      "non-resource variables are not supported in the long term\n",
      "INFO:tensorflow:Disabling resource variables\n",
      "INFO:tensorflow:Disabling tensor equality\n",
      "INFO:tensorflow:Disabling control flow v2\n",
      "2.5.0-rc1\n"
     ]
    }
   ],
   "source": [
    "# tensorflow 라이브러리를 설치하고 tf라는 별명을 지정한다.\n",
    "# import tensorflow as tf\n",
    "# tensorflow 2.x버전이 설치된 경우 tensorflow 버전 1.x 버전 문법을 사용하려면 아래와 같이 import 하면 된다.\n",
    "import tensorflow.compat.v1 as tf\n",
    "\n",
    "# tensorflow 2.x 버전의 문법을 사용하지 않겠다고 선언한다.\n",
    "tf.disable_v2_behavior()\n",
    "print(tf.__version__)"
   ]
  },
  {
   "cell_type": "markdown",
   "metadata": {},
   "source": [
    "### 변수, 상수, 수식을 만든다. -> 세션에 넣는다. -> 변수를 초기화 시킨다. -> 실행한다."
   ]
  },
  {
   "cell_type": "markdown",
   "metadata": {},
   "source": [
    "#### tensorflow 상수"
   ]
  },
  {
   "cell_type": "code",
   "execution_count": 3,
   "metadata": {},
   "outputs": [
    {
     "name": "stdout",
     "output_type": "stream",
     "text": [
      "Tensor(\"Const:0\", shape=(), dtype=int32)\n",
      "Tensor(\"add:0\", shape=(), dtype=int32)\n",
      "Tensor(\"Add_1:0\", shape=(), dtype=int32)\n",
      "a =  500\n",
      "b =  200\n",
      "a + b =  700\n"
     ]
    }
   ],
   "source": [
    "# constant() : tensorflow에서 사용할 상수를 정의하는 메소드 \n",
    "# 초기화 필요없다.\n",
    "a = tf.constant(500) # tensorflow에서 사용할 상수를 정의한다.\n",
    "print(a)\n",
    "b = tf.constant(200)\n",
    "c = a + b   # tensorflow에서 사용할 수식을 정의한다.\n",
    "print(c)\n",
    "c = tf.add(a,b)\n",
    "print(c)\n",
    "\n",
    "# 1.x버전 기준으로 \n",
    "# tensorflow는 반드시 Session 이라는 작업 영역을 만든 후 상수, 변수, 수식을 대입한 다음 실행해야 한다.\n",
    "sess = tf.Session() # tensorflow Session을 만든다.\n",
    "# run() : tensorflow에서 Sesstion의 내용을 실행하는 메소드 \n",
    "print('a = ',sess.run(a))\n",
    "print('b = ',sess.run(b))\n",
    "print('a + b = ',sess.run(c))"
   ]
  },
  {
   "cell_type": "markdown",
   "metadata": {},
   "source": [
    "### tensorflow 변수 -> 반드시 실행하기 전에 초기화를 시켜야 한다."
   ]
  },
  {
   "cell_type": "code",
   "execution_count": 37,
   "metadata": {},
   "outputs": [
    {
     "name": "stdout",
     "output_type": "stream",
     "text": [
      "<tf.Variable 'Variable_67:0' shape=() dtype=int32_ref>\n",
      "<tf.Variable 'Variable_68:0' shape=() dtype=int32_ref>\n",
      "Tensor(\"mul_67:0\", shape=(), dtype=int32)\n",
      "Tensor(\"Mul_68:0\", shape=(), dtype=int32)\n",
      "a =  5\n",
      "b =  3\n",
      "a*b= 15\n",
      "a*b= 45\n"
     ]
    }
   ],
   "source": [
    "# Variable() : tensorflow에서 사용할 변수를 정의하는 메소드\n",
    "a = tf.Variable(5) # tensorflow에서 사용할 변수를 정의하고 데이터를 넣어준다.\n",
    "print(a)\n",
    "b = tf.Variable(3)\n",
    "print(b)\n",
    "c = a*b\n",
    "print(c)\n",
    "c = tf.multiply(a,b)\n",
    "print(c)\n",
    "\n",
    "sess = tf.Session()\n",
    "# global_variables_initializer : tensorflow에서 사용할 변수를 초기화하는 메소드\n",
    "# Variable() 메소드를 사용해서 생성한 fensorflow 변수는 사용하기 전에 반드시 초기화 시켜야 한다.\n",
    "# tensorflow 변수 초기화는 연산을 실행(사용)하기 전에만 해주면 된다.\n",
    "\n",
    "# tensorflow 변수 초기화 방법 1\n",
    "init = tf.global_variables_initializer()\n",
    "sess.run(init)\n",
    "# tensorflow 변수 초기화 방법 1\n",
    "sess.run(tf.global_variables_initializer())\n",
    "\n",
    "print('a = ',sess.run(a))\n",
    "print('b = ',sess.run(b))\n",
    "c = tf.multiply(a,b)\n",
    "print('a*b=',sess.run(c))   \n",
    "\n",
    "a = tf.Variable(15) # tensorflow 변수에 저장된 데이터를 변경 시켰다.\n",
    "# tensorflow 변수에 저장된 데이터가 변경되면 반드시 초시화 시켜야 한다.\n",
    "sess.run(tf.global_variables_initializer())\n",
    "c = tf.multiply(a,b)\n",
    "print('a*b=',sess.run(c))   \n"
   ]
  },
  {
   "cell_type": "code",
   "execution_count": null,
   "metadata": {},
   "outputs": [],
   "source": []
  },
  {
   "cell_type": "code",
   "execution_count": null,
   "metadata": {},
   "outputs": [],
   "source": []
  },
  {
   "cell_type": "code",
   "execution_count": null,
   "metadata": {},
   "outputs": [],
   "source": []
  },
  {
   "cell_type": "code",
   "execution_count": null,
   "metadata": {},
   "outputs": [],
   "source": []
  },
  {
   "cell_type": "code",
   "execution_count": null,
   "metadata": {},
   "outputs": [],
   "source": []
  },
  {
   "cell_type": "code",
   "execution_count": null,
   "metadata": {},
   "outputs": [],
   "source": []
  },
  {
   "cell_type": "code",
   "execution_count": null,
   "metadata": {},
   "outputs": [],
   "source": []
  },
  {
   "cell_type": "code",
   "execution_count": null,
   "metadata": {},
   "outputs": [],
   "source": []
  },
  {
   "cell_type": "code",
   "execution_count": null,
   "metadata": {},
   "outputs": [],
   "source": []
  },
  {
   "cell_type": "code",
   "execution_count": null,
   "metadata": {},
   "outputs": [],
   "source": []
  },
  {
   "cell_type": "code",
   "execution_count": null,
   "metadata": {},
   "outputs": [],
   "source": []
  },
  {
   "cell_type": "code",
   "execution_count": null,
   "metadata": {},
   "outputs": [],
   "source": []
  },
  {
   "cell_type": "code",
   "execution_count": null,
   "metadata": {},
   "outputs": [],
   "source": []
  }
 ],
 "metadata": {
  "kernelspec": {
   "display_name": "Python 3",
   "language": "python",
   "name": "python3"
  },
  "language_info": {
   "codemirror_mode": {
    "name": "ipython",
    "version": 3
   },
   "file_extension": ".py",
   "mimetype": "text/x-python",
   "name": "python",
   "nbconvert_exporter": "python",
   "pygments_lexer": "ipython3",
   "version": "3.9.4"
  }
 },
 "nbformat": 4,
 "nbformat_minor": 4
}
